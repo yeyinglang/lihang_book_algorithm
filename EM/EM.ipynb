{
 "cells": [
  {
   "cell_type": "code",
   "execution_count": 91,
   "metadata": {
    "collapsed": true
   },
   "outputs": [],
   "source": [
    "import numpy as np\n",
    "import copy\n",
    "import math\n",
    "import matplotlib.pyplot as plt\n",
    "# mathplotlib inline"
   ]
  },
  {
   "cell_type": "markdown",
   "metadata": {},
   "source": [
    "# 创建数据集"
   ]
  },
  {
   "cell_type": "markdown",
   "metadata": {},
   "source": [
    "一个样本中有两个高斯分布，均值不同，方差相同；\n",
    "实例：从一个学校里随机抽取学生，抽取n个，其中包含a个女学生，b个男学生。"
   ]
  },
  {
   "cell_type": "code",
   "execution_count": 92,
   "metadata": {
    "collapsed": true
   },
   "outputs": [],
   "source": [
    "# n 样本数量 ，k 几个高斯分布，sigma：方差，real_mu 包含两个分布的真实期望\n",
    "\n",
    "def create_data(n,k,real_mu,sigma):\n",
    "    X = np.zeros((n,1))\n",
    "    for i in range(0,n):\n",
    "#   随机抽取 男女生\n",
    "        if np.random.random()>0.5:\n",
    "            X[i][0] = np.random.normal()*sigma + real_mu[0]\n",
    "        else:\n",
    "            X[i][0] = np.random.normal()*sigma + real_mu[1]\n",
    "    return X"
   ]
  },
  {
   "cell_type": "markdown",
   "metadata": {},
   "source": [
    "# 高斯分布"
   ]
  },
  {
   "cell_type": "code",
   "execution_count": 93,
   "metadata": {
    "collapsed": true
   },
   "outputs": [],
   "source": [
    "\n",
    "def gaussian_dist(x,mu,sigma):\n",
    "    exponent = np.exp(-np.power((x-mu),2)/(2*np.power(sigma,2)))\n",
    "    result = 1/np.power(2*np.pi*sigma**2 , 1/2) *exponent\n",
    "    return result"
   ]
  },
  {
   "cell_type": "markdown",
   "metadata": {},
   "source": [
    "# Expectation"
   ]
  },
  {
   "cell_type": "markdown",
   "metadata": {},
   "source": [
    "固定$\\theta$ ,优化条件期望"
   ]
  },
  {
   "cell_type": "markdown",
   "metadata": {},
   "source": [
    "简单而言：已知 $\\theta$ ,求条件期望，即在某个样本结果出现的条件下，是男生或者女生的概率"
   ]
  },
  {
   "cell_type": "code",
   "execution_count": 94,
   "metadata": {
    "collapsed": true
   },
   "outputs": [],
   "source": [
    "def e_step(X,mu,sigma,expectations):\n",
    "    length = X.shape[0]\n",
    "    k = mu.shape[0]\n",
    "\n",
    "    for i in range(0,length):\n",
    "        denominator = 0;\n",
    "        for j in range(0,k):\n",
    "            denominator += gaussian_dist(X[i][0],mu[j],sigma)\n",
    "        \n",
    "        for j in range(0,k):      \n",
    "            numberator = gaussian_dist(X[i][0],mu[j],sigma)         \n",
    "            expectations[i][j]= numberator / denominator\n",
    "            \n",
    "    return expectations"
   ]
  },
  {
   "cell_type": "markdown",
   "metadata": {},
   "source": [
    "# Maximization"
   ]
  },
  {
   "cell_type": "markdown",
   "metadata": {},
   "source": [
    "已知条件期望，求解$\\theta$在此次迭代中的最大值"
   ]
  },
  {
   "cell_type": "code",
   "execution_count": 95,
   "metadata": {
    "collapsed": true
   },
   "outputs": [],
   "source": [
    "#  这种方法更直观，\n",
    "# def m_step(X,mu,sigma,expectations):\n",
    "#     n = X.shape[0]\n",
    "#     k = mu.shape[0] \n",
    "#     for i in range(0,k):   \n",
    "#         numberator = 0\n",
    "#         denominator = 0\n",
    "#         for j in range(0,n):\n",
    "#             numberator += expectations[j,i]*X[j,0]\n",
    "#             denominator += expectations[j,i]\n",
    "        \n",
    "#         mu[i] = numberator/denominator\n",
    "    \n",
    "#     return mu"
   ]
  },
  {
   "cell_type": "code",
   "execution_count": 96,
   "metadata": {
    "collapsed": true
   },
   "outputs": [],
   "source": [
    "# 向量法，简单高效\n",
    "def m_step(X,mu,sigma,expectations):\n",
    "    numbers = np.transpose(X).dot(expectations)\n",
    "    denominator= np.sum(expectations,axis=0)\n",
    "\n",
    "    result = numbers/denominator\n",
    "#     result是1*2的矩阵，\n",
    "# 我们需要返回一个一维向量，包含两个分量而已。\n",
    "    mu[0] = result[0][0]\n",
    "    mu[1] = result[0][1]\n",
    "    return mu"
   ]
  },
  {
   "cell_type": "markdown",
   "metadata": {},
   "source": [
    "# 训练"
   ]
  },
  {
   "cell_type": "code",
   "execution_count": 97,
   "metadata": {
    "collapsed": true
   },
   "outputs": [],
   "source": [
    "def train(X,sigma,expectations,iteration,epsilon):\n",
    "    mu = np.random.random(2)\n",
    "    for i in range(0,iteration):\n",
    "        # deepcopy 使得两个值相互不影响\n",
    "        old_mu = copy.deepcopy(mu)\n",
    "        # E步：求出条件期望\n",
    "        expectations = e_step(X,mu,sigma,expectations)\n",
    "        \n",
    "        print(i,mu)\n",
    "        # M步，利用E步的期望，求最大的theta（）\n",
    "        mu = m_step(X,mu,sigma,expectations)\n",
    "        # 如果两次迭代的差值小于阈值，则训练结束，也可以认为找到局部最优值，\n",
    "        if np.abs(np.sum(old_mu) - np.sum(mu)) < epsilon:\n",
    "            break"
   ]
  },
  {
   "cell_type": "code",
   "execution_count": 98,
   "metadata": {},
   "outputs": [
    {
     "name": "stdout",
     "output_type": "stream",
     "text": [
      "0 [0.71085143 0.97453594]\n",
      "1 [168.60550916 169.62356611]\n",
      "2 [167.44608098 171.32745846]\n",
      "3 [163.31669663 175.570302  ]\n",
      "4 [160.18984499 179.48883559]\n",
      "5 [160.04240354 180.32256705]\n",
      "6 [160.14223833 180.53002579]\n",
      "7 [160.19102044 180.60482685]\n",
      "8 [160.21080304 180.63380363]\n",
      "9 [160.21861444 180.64513455]\n",
      "10 [160.22168114 180.64957042]\n",
      "11 [160.22288306 180.65130723]\n",
      "12 [160.22335384 180.65198726]\n",
      "13 [160.22353819 180.65225352]\n",
      "14 [160.22361038 180.65235778]\n",
      "15 [160.22363865 180.6523986 ]\n",
      "16 [160.22364971 180.65241458]\n",
      "17 [160.22365405 180.65242084]\n"
     ]
    },
    {
     "data": {
      "image/png": "[encoded data removed]",
      "text/plain": [
       "<matplotlib.figure.Figure at 0x1b011947b38>"
      ]
     },
     "metadata": {},
     "output_type": "display_data"
    }
   ],
   "source": [
    "# 200个抽样样本，（男女生集合）\n",
    "n=200\n",
    "k=2\n",
    "# 真实期望\n",
    "real_mu = np.array([180,160])\n",
    "sigma=6\n",
    "iteration=1000\n",
    "epsilon=0.00001\n",
    "expectations = np.zeros((n,k))\n",
    "X = create_data(n,k,real_mu,sigma)\n",
    "train(X,sigma,expectations,iteration, epsilon)\n",
    "plt.hist(X,50)\n",
    "plt.show()"
   ]
  },
  {
   "cell_type": "code",
   "execution_count": null,
   "metadata": {
    "collapsed": true
   },
   "outputs": [],
   "source": []
  },
  {
   "cell_type": "code",
   "execution_count": null,
   "metadata": {
    "collapsed": true
   },
   "outputs": [],
   "source": []
  }
 ],
 "metadata": {
  "kernelspec": {
   "display_name": "Python 3",
   "language": "python",
   "name": "python3"
  },
  "language_info": {
   "codemirror_mode": {
    "name": "ipython",
    "version": 3
   },
   "file_extension": ".py",
   "mimetype": "text/x-python",
   "name": "python",
   "nbconvert_exporter": "python",
   "pygments_lexer": "ipython3",
   "version": "3.6.3"
  },
  "toc": {
   "nav_menu": {},
   "number_sections": true,
   "sideBar": true,
   "skip_h1_title": false,
   "title_cell": "Table of Contents",
   "title_sidebar": "Contents",
   "toc_cell": false,
   "toc_position": {
    "height": "calc(100% - 180px)",
    "left": "10px",
    "top": "150px",
    "width": "249px"
   },
   "toc_section_display": true,
   "toc_window_display": true
  }
 },
 "nbformat": 4,
 "nbformat_minor": 2
}
